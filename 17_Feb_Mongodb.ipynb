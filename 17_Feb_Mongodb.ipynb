{
 "cells": [
  {
   "cell_type": "markdown",
   "id": "03c4e51b-17a5-4f17-bfc4-62324c203900",
   "metadata": {},
   "source": [
    "# Q1. What is MongoDB? Explain non-relational databases in short. In which scenarios it is preferred to use MongoDB over SQL databases?\n",
    "\n",
    "- MongoDB is a popular open-source, NoSQL database management system that uses a document-oriented data model to store and manage data. Rather than using the traditional relational database model with tables and rows, MongoDB stores data in collections of JSON-like documents. Each document can have its own unique structure, and can include arrays and sub-documents, making it a very flexible and dynamic database system.\n",
    "\n",
    "- MongoDB is designed to handle large amounts of unstructured or semi-structured data, and is often used for applications that require scalability and high availability, such as web applications, social networks, and mobile apps. MongoDB also provides features such as dynamic schema, auto-sharding, replication, and high availability.\n",
    "\n",
    "- In addition to the open-source version, MongoDB also offers a commercial version with advanced features and support, as well as a cloud-based database-as-a-service platform called MongoDB Atlas.\n",
    "\n",
    "- Non-relational databases, also known as NoSQL databases, are a type of database management system that store and manage data in a way that is different from traditional relational databases. Non-relational databases are designed to handle large volumes of unstructured or semi-structured data, and are often used in modern web applications, mobile apps, and big data systems. Unlike relational databases, which organize data into tables with rows and columns, non-relational databases use a variety of data models, such as key-value, document-oriented, graph, and column-family. These data models allow for flexible schema and can better handle unstructured or semi-structured data, such as social media data, sensor data, and machine data.\n",
    "\n",
    "- Here are some scenarios where it may be preferred to use MongoDB over SQL databases:\n",
    "1. Unstructured data: If you have unstructured or semi-structured data, then MongoDB is a better fit as it is designed to store and retrieve documents. In contrast, SQL databases are designed for structured data with pre-defined tables and columns.\n",
    "2. Big Data: MongoDB is designed to handle Big Data and supports sharding and replication to distribute data across multiple servers. SQL databases are better suited for smaller data sets.\n",
    "3. Complex queries: MongoDB provides a flexible query language that supports complex queries with nested documents and arrays. SQL databases are better suited for simpler, more structured queries.\n",
    "4. Scalability: MongoDB is designed to scale horizontally by adding more servers, while SQL databases are designed to scale vertically by adding more CPU or memory to the server. If your application needs to scale horizontally, then MongoDB is a better fit.\n",
    "- In general, MongoDB is a better fit for applications that require scalability, flexibility, and the ability to handle unstructured or semi-structured data. SQL databases are better suited for applications that require complex joins, transactions, and strict schema requirements. However, it's important to evaluate your specific requirements and choose the database that best meets your needs."
   ]
  },
  {
   "cell_type": "code",
   "execution_count": null,
   "id": "384c4671-ff53-4cda-a930-5b439c8cf481",
   "metadata": {},
   "outputs": [],
   "source": []
  },
  {
   "cell_type": "markdown",
   "id": "3f943715-4a5a-4a20-bbf9-8dbaae45a19e",
   "metadata": {},
   "source": [
    "# Q2. State and Explain the features of MongoDB.\n",
    "\n",
    "- MongoDB is a popular NoSQL document-oriented database that is designed to store and retrieve large volumes of unstructured or semi-structured data. Here are some of the key features of MongoDB:\n",
    "1. Document-oriented: MongoDB is a document-oriented database, which means that it stores data as documents in a flexible JSON-like format. This allows for the storage of complex, nested data structures, making it ideal for handling unstructured data.\n",
    "2. Flexible schema: MongoDB allows for a flexible schema, which means that documents in a collection can have different fields and structures. This allows for dynamic updates to the database schema and can make it easier to adapt to changing requirements.\n",
    "3. Aggregation: MongoDB supports a powerful aggregation framework, which allows for the processing and analysis of large datasets. This framework includes a wide range of operators and stages, which can be combined to perform complex data transformations.\n",
    "4. Ad-hoc queries: MongoDB provides a powerful query language that allows for complex ad-hoc queries on large datasets. This query language supports a range of operators and functions, including aggregation functions, regular expressions, and full-text search.\n",
    "5. Transactions: Starting from version 4.0, MongoDB introduced support for multi-document transactions, allowing for atomic operations on multiple documents. This enables more complex data manipulation and transaction management.\n",
    "6. Indexing: MongoDB provides support for indexing, allowing for fast query performance even on large datasets. It also supports various types of indexes, including compound indexes, geospatial indexes, and text indexes.\n",
    "7. Transactions: Starting from version 4.0, MongoDB introduced support for multi-document transactions, allowing for atomic operations on multiple documents. This enables more complex data manipulation and transaction management."
   ]
  },
  {
   "cell_type": "code",
   "execution_count": null,
   "id": "498412a2-188b-45f4-a3f9-799c105345a9",
   "metadata": {},
   "outputs": [],
   "source": []
  },
  {
   "cell_type": "markdown",
   "id": "f6f5a0b6-524d-4dc7-916a-aab4e027d84b",
   "metadata": {},
   "source": [
    "# Q3. Write a code to connect MongoDB to Python. Also, create a database and a collection in MongoDB.\n",
    "\n",
    "#### import the r=necessary libraries\n",
    "import pymongo\n",
    "##### if `no module name` error occur then try to run `pip install pymongo` which allows you to install external packages or libraries from the Python Package Index (PyPI) or other sources.\n",
    "\n",
    "#### connecting python to MongoDb server\n",
    "client = pymongo.MongoClient(\"mongodb://localhost:27017/\")\n",
    "\n",
    "##### create a new database inside that server\n",
    "database = client[\"Atlas\"]\n",
    "\n",
    "##### create a new collection in `atlas` database\n",
    "collectiom = database[\"mycollection\"]\n",
    "\n",
    "- In above code, we first import the pymongo library, which provides an API for interacting with MongoDB, then we connect to the MongoDB server running on the local machine on the default port 27017. If your server is running on a different port, you can change the URL accordingly.\n",
    "\n",
    "- Next, we create a new database named `Atlas` by calling `client[\"Atlas\"]`. If the database already exists, this call will simply return a reference to the existing database.\n",
    "\n",
    "- Finally, we create a new collection named `mycollection` in the `Atlas` database, by calling `database[\"mycollection\"]`. If the collection already exists, this call will simply return a reference to the existing collection.\n",
    "\n",
    "- We can then use the collection object to insert, update, and query documents in the `mycollection` collection."
   ]
  },
  {
   "cell_type": "code",
   "execution_count": null,
   "id": "7ed77bf6-f832-41ab-86b9-b137f9c55967",
   "metadata": {},
   "outputs": [],
   "source": []
  },
  {
   "cell_type": "markdown",
   "id": "85f28035-bd4e-462d-bc2c-a49f7fd8a9f4",
   "metadata": {},
   "source": [
    "# Q4. Using the database and the collection created in question number 3, write a code to insert one record, and insert many records. Use the find() and find_one() methods to print the inserted record.\n",
    "\n",
    "import pymongo\n",
    "##### connect to mongodb server and crete a new databse and collection\n",
    "client = pymongo.MongoClient(\"mongodb://localhost:27017/\")\n",
    "database = client[\"Atlas\"]\n",
    "collection = database[\"mycollection\"]\n",
    "\n",
    "##### Inserting one record into the collection\n",
    "data_one = {\"name\": \"Nimish\", \"email\": \"nimish1g@gmail.com\", \"mob_num\": 123456789}\n",
    "insert_one_record = collection.insert_one(data_one)\n",
    "print(\"Inserted record ID: \", insert_one_result.inserted_id)\n",
    "\n",
    "##### Inserting many record into the collecion\n",
    "data_two =  data3 = [\n",
    "  { \"name\": \"Amy\", \"address\": \"Apple st 652\" },\n",
    "  { \"name\": \"Hannah\", \"address\": \"Mountain 21\" },\n",
    "  { \"name\": \"Michael\", \"address\": \"Valley 345\" },\n",
    "  { \"name\": \"Sandy\", \"address\": \"Ocean blvd 2\" },\n",
    "  { \"name\": \"Betty\", \"address\": \"Green Grass 1\" },\n",
    "  { \"name\": \"Richard\", \"address\": \"Sky st 331\" },\n",
    "  { \"name\": \"Susan\", \"address\": \"One way 98\" },\n",
    "  { \"name\": \"Vicky\", \"address\": \"Yellow Garden 2\" },\n",
    "  { \"name\": \"Ben\", \"address\": \"Park Lane 38\" },\n",
    "  { \"name\": \"William\", \"address\": \"Central st 954\" },\n",
    "  { \"name\": \"Chuck\", \"address\": \"Main Road 989\" },\n",
    "  { \"name\": \"Viola\", \"address\": \"Sideway 1633\" }\n",
    "]\n",
    "insert_many_record = collection.insert_many(data_two)\n",
    "print(\"Inserted record ID: \", insert_many_record.inserted_id)\n",
    "\n",
    "##### Finally print the records using `find` and `find_one` method \n",
    "for i in collection.find():\n",
    "    print(i)\n",
    "    \n",
    "collection.find_one()"
   ]
  },
  {
   "cell_type": "code",
   "execution_count": null,
   "id": "c89868e9-8017-4e5c-912c-9bfc84b3049c",
   "metadata": {},
   "outputs": [],
   "source": []
  },
  {
   "cell_type": "markdown",
   "id": "f28fe029-f1db-4d67-a641-7d4cc52f9296",
   "metadata": {},
   "source": [
    "# Q5. Explain how you can use the find() method to query the MongoDB database. Write a simple code to demonstrate this.\n",
    "\n",
    "- We can use the find() method to query the database and retrieve documents that match a specific set of criteria. The find() method takes one argument, which is a query document that specifies the criteria for matching documents.\n",
    "\n",
    "- Here's an example code to demonstrate how to use the find() method to query\n",
    "import pymongo\n",
    "##### connect to mongodb server and crete a new databse and collection\n",
    "client = pymongo.MongoClient(\"mongodb://localhost:27017/\")\n",
    "database = client[\"Atlas\"]\n",
    "collection = database[\"mycollection\"]\n",
    "\n",
    "random_data = [\n",
    "    {'_id': '3', 'companyName': 'iNeuron', 'Faculty': 'XYZ'},\n",
    "    {'_id': '4', 'companyName': 'iNeuron', 'Faculty': 'ABC'},\n",
    "    {'_id': '5', 'companyName': 'iNeuron', 'Faculty': 'PQR'},\n",
    "]\n",
    "collection.insert_many(random_data)\n",
    "\n",
    "for i in collection.find({'companyName': 'iNeuron'}):\n",
    "    print(i)"
   ]
  },
  {
   "cell_type": "code",
   "execution_count": null,
   "id": "c19598fa-07f0-4c06-9d84-0863f18bb58f",
   "metadata": {},
   "outputs": [],
   "source": []
  },
  {
   "cell_type": "markdown",
   "id": "4c05ea34-a84d-449a-9880-aba8328ba3f9",
   "metadata": {},
   "source": [
    "# Q6. Explain the sort() method. Give an example to demonstrate sorting in MongoDB.\n",
    "\n",
    "- In MongoDB, the sort() method is used to sort the results of a query in either ascending or descending order based on one or more fields in the documents. The sort() method takes one or more arguments that specify the fields to sort by and the order of sorting (ascending or descending).\n",
    "\n",
    "- Here's an example to demonstrate sorting\n",
    "import pymongo\n",
    "\n",
    "##### Connect to MongoDB server and select the database and collection\n",
    "client = pymongo.MongoClient(\"mongodb://localhost:27017/\")\n",
    "db = client[\"mydatabase\"]\n",
    "books_collection = db[\"books\"]\n",
    "\n",
    "##### Query the collection and sort the results\n",
    "query = {\"price\": {\"$gt\": 10}}\n",
    "results = books_collection.find(query).sort(\"price\", -1)\n",
    "\n",
    "##### Print the sorted results\n",
    "for book in results:\n",
    "    print(book)"
   ]
  },
  {
   "cell_type": "code",
   "execution_count": null,
   "id": "f3ad6283-1a41-4490-876c-c9226da79574",
   "metadata": {},
   "outputs": [],
   "source": []
  },
  {
   "cell_type": "markdown",
   "id": "faad1d37-3b52-4915-809e-83e4a2283fb9",
   "metadata": {},
   "source": [
    "# Q7. Explain why delete_one(), delete_many(), and drop() is used.\n",
    "\n",
    "- In MongoDB, the delete_one(), delete_many(), and drop() methods are used to delete documents or collections from a database.\n",
    "\n",
    "- The delete_one() method is used to delete the first document that matches a given query. It takes one argument, which is a query document that specifies the criteria for matching the document. If multiple documents match the query, only the first one will be deleted.\n",
    "\n",
    "- The delete_many() method is used to delete all documents that match a given query. It takes one argument, which is a query document that specifies the criteria for matching the documents.\n",
    "\n",
    "- The drop() method is used to delete an entire collection from a database. It takes no arguments and deletes the entire collection.\n",
    "\n",
    "- These methods are useful when we want to remove documents or collections from a database, such as when data is no longer needed or when you want to clean up the database. The delete_one() and delete_many() methods can be used to selectively remove documents that match certain criteria, while the drop() method is used to remove an entire collection.\n",
    "\n",
    "- `[Tip]`: It is important to use these methods carefully, as they can permanently delete data from the database. Before performing any deletion operation, it is recommended to take a backup of the database to avoid data loss."
   ]
  },
  {
   "cell_type": "code",
   "execution_count": null,
   "id": "c1bd92c8-4313-4d82-a015-98dfeff5f750",
   "metadata": {},
   "outputs": [],
   "source": []
  },
  {
   "cell_type": "code",
   "execution_count": null,
   "id": "27a256a6-c7da-4793-bc61-8356de3e0103",
   "metadata": {},
   "outputs": [],
   "source": []
  },
  {
   "cell_type": "code",
   "execution_count": null,
   "id": "52dd9472-0a2d-40dd-8b19-79cf7eaa9278",
   "metadata": {},
   "outputs": [],
   "source": []
  }
 ],
 "metadata": {
  "kernelspec": {
   "display_name": "Python 3 (ipykernel)",
   "language": "python",
   "name": "python3"
  },
  "language_info": {
   "codemirror_mode": {
    "name": "ipython",
    "version": 3
   },
   "file_extension": ".py",
   "mimetype": "text/x-python",
   "name": "python",
   "nbconvert_exporter": "python",
   "pygments_lexer": "ipython3",
   "version": "3.10.8"
  }
 },
 "nbformat": 4,
 "nbformat_minor": 5
}
